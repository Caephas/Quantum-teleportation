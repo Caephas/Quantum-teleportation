{
 "cells": [
  {
   "cell_type": "code",
   "execution_count": 1,
   "id": "0d68f2e2-1cef-4eb1-a15c-225186d0891b",
   "metadata": {},
   "outputs": [],
   "source": [
    "from qiskit import QuantumCircuit, transpile\n",
    "import matplotlib.pyplot as plt\n",
    "from qiskit_aer import AerSimulator\n",
    "from qiskit.visualization import plot_histogram\n",
    "from IPython.display import display"
   ]
  },
  {
   "cell_type": "code",
   "execution_count": 3,
   "id": "90c7b29b-e13e-4b1f-a198-a04becf4f5f4",
   "metadata": {},
   "outputs": [
    {
     "data": {
      "text/html": [
       "<pre style=\"word-wrap: normal;white-space: pre;background: #fff0;line-height: 1.1;font-family: &quot;Courier New&quot;,Courier,monospace\">     ┌───┐          ┌───┐┌─┐           \n",
       "q_0: ┤ H ├───────■──┤ H ├┤M├──────■────\n",
       "     ├───┤     ┌─┴─┐└┬─┬┘└╥┘      │    \n",
       "q_1: ┤ H ├──■──┤ X ├─┤M├──╫───■───┼────\n",
       "     └───┘┌─┴─┐└───┘ └╥┘  ║ ┌─┴─┐ │ ┌─┐\n",
       "q_2: ─────┤ X ├───────╫───╫─┤ X ├─■─┤M├\n",
       "          └───┘       ║   ║ └───┘   └╥┘\n",
       "c: 3/═════════════════╩═══╩══════════╩═\n",
       "                      1   0          2 </pre>"
      ],
      "text/plain": [
       "     ┌───┐          ┌───┐┌─┐           \n",
       "q_0: ┤ H ├───────■──┤ H ├┤M├──────■────\n",
       "     ├───┤     ┌─┴─┐└┬─┬┘└╥┘      │    \n",
       "q_1: ┤ H ├──■──┤ X ├─┤M├──╫───■───┼────\n",
       "     └───┘┌─┴─┐└───┘ └╥┘  ║ ┌─┴─┐ │ ┌─┐\n",
       "q_2: ─────┤ X ├───────╫───╫─┤ X ├─■─┤M├\n",
       "          └───┘       ║   ║ └───┘   └╥┘\n",
       "c: 3/═════════════════╩═══╩══════════╩═\n",
       "                      1   0          2 "
      ]
     },
     "metadata": {},
     "output_type": "display_data"
    },
    {
     "name": "stdout",
     "output_type": "stream",
     "text": [
      "Measurement output for qubit 3:\n",
      "{'0': 44, '1': 56}\n"
     ]
    },
    {
     "data": {
      "image/png": "[encoded data removed]",
      "text/plain": [
       "<Figure size 640x480 with 1 Axes>"
      ]
     },
     "metadata": {},
     "output_type": "display_data"
    }
   ],
   "source": [
    "def quantum_teleportation(qubit_to_send_op='H', num_copies=100):\n",
    "    qc = QuantumCircuit(3, 3)\n",
    "    \"\"\"\n",
    "    Q1 : Alice state qubit to be sent to Bob\n",
    "    Q2 : Alice control qubit\n",
    "    Q3 : Bob's control qubit\n",
    "\n",
    "    Set a state for Q1 based on qubit_to_send_op :\n",
    "    Implemented operators H, X, Y, Z, I\n",
    "    \"\"\"\n",
    "    if qubit_to_send_op == 'H':\n",
    "        qc.h(0)\n",
    "    elif qubit_to_send_op == 'X':\n",
    "        qc.x(0)\n",
    "    elif qubit_to_send_op == 'Y':\n",
    "        qc.y(0)\n",
    "    elif qubit_to_send_op == 'Z':\n",
    "        qc.z(0)\n",
    "    elif qubit_to_send_op == 'S':\n",
    "        qc.s(0)\n",
    "    elif qubit_to_send_op == 'T':\n",
    "        qc.t(0)\n",
    "    else:\n",
    "        raise NotImplementedError('Gate not implemented')\n",
    "\n",
    "    # Entangle Alice and Bob's qubit Qubit 2 and 3 \n",
    "    qc.h(1)\n",
    "    qc.cx(1, 2)\n",
    "\n",
    "    # CNOT Alice data Qubit Q1 with control Qubit Q2 \n",
    "    qc.cx(0, 1)\n",
    "\n",
    "    # Transform Alice data Qubit 1 Q1\n",
    "    qc.h(0)\n",
    "    \n",
    "    # Measure Alice qubit Q1 and Q2\n",
    "    qc.measure([0, 1], [0, 1])\n",
    "    \n",
    "    # Do a CNOT on Bob's qubit using Q2 as control and Q3 as target\n",
    "    qc.cx(1,2)\n",
    "\n",
    "    # Do a conditioned Z operation on Bob's qubit Q3 using Alice control qubit 1 after measurement\n",
    "    qc.cz(0,2)\n",
    "    \n",
    "    # Measure the final state state transmitted to Bob's qubit Q3\n",
    "    qc.measure(2, 2)\n",
    "\n",
    "    # Display the circuit\n",
    "    display(qc.draw('text'))\n",
    "\n",
    "    # Use Qiskit's AerSimulator\n",
    "    simulator = AerSimulator()\n",
    "\n",
    "    # Transpile the circuit for the simulator\n",
    "    compiled_circuit = transpile(qc, simulator)\n",
    "    \n",
    "    # Execute the circuit on the simulator\n",
    "    job = simulator.run(compiled_circuit, shots=num_copies)\n",
    "    \n",
    "    # Grab results from the job\n",
    "    result = job.result()\n",
    "    \n",
    "    # Get the counts (results)\n",
    "    counts = result.get_counts(compiled_circuit)\n",
    "\n",
    "    # Print the counts\n",
    "    print('Measurement output for qubit 3:')\n",
    "    qubit_3_counts = {'0': 0, '1': 0}\n",
    "    for outcome, count in counts.items():\n",
    "        qubit_3_counts[outcome[-1]] += count\n",
    "    print(qubit_3_counts)\n",
    "    \n",
    "    # Display the results\n",
    "    display(plot_histogram(qubit_3_counts, title=\"Qubit 3 Measurement Counts\"))\n",
    "    \n",
    "\n",
    "if __name__ == '__main__':\n",
    "    quantum_teleportation(qubit_to_send_op='H')"
   ]
  },
  {
   "cell_type": "code",
   "execution_count": null,
   "id": "99f9d7f0-5339-4c43-8bea-3c14b4f2875f",
   "metadata": {},
   "outputs": [],
   "source": []
  }
 ],
 "metadata": {
  "kernelspec": {
   "display_name": "Python 3 (ipykernel)",
   "language": "python",
   "name": "python3"
  },
  "language_info": {
   "codemirror_mode": {
    "name": "ipython",
    "version": 3
   },
   "file_extension": ".py",
   "mimetype": "text/x-python",
   "name": "python",
   "nbconvert_exporter": "python",
   "pygments_lexer": "ipython3",
   "version": "3.12.4"
  }
 },
 "nbformat": 4,
 "nbformat_minor": 5
}
