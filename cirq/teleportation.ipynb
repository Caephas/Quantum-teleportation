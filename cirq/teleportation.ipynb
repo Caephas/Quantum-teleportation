{
 "cells": [
  {
   "cell_type": "code",
   "execution_count": 1,
   "id": "de241279-081d-448e-83a4-0ae6c8b63edc",
   "metadata": {},
   "outputs": [],
   "source": [
    "import cirq\n"
   ]
  },
  {
   "cell_type": "code",
   "execution_count": 2,
   "id": "8d0802e3-84e9-47d3-8ed2-ec06421aecdc",
   "metadata": {},
   "outputs": [
    {
     "name": "stdout",
     "output_type": "stream",
     "text": [
      "Circuit\n",
      "0: ───H───────@───H───M───────@────────────\n",
      "              │       │       │\n",
      "1: ───H───@───X───────M───@───┼────────────\n",
      "          │               │   │\n",
      "2: ───────X───────────────X───@───M('Z')───\n",
      "Measurement output\n",
      "Counter({0: 55, 1: 45})\n"
     ]
    }
   ],
   "source": [
    "def quantum_teleportation(qubit_to_send_op='H', num_copies=100):\n",
    "    Q1,Q2,Q3 = [cirq.LineQubit(i) for i in range (3)]\n",
    "    circuit = cirq.Circuit()\n",
    "\n",
    "    \"\"\"\n",
    "    Q1 : Alice state qubit to be sent to Bob\n",
    "    Q2 : Alice control qubit\n",
    "    Q3 : Bob's control Qubit\n",
    "\n",
    "    Set a state for Q1 based on qubit_to_send_op :\n",
    "    Implemented operators H, X, Y, Z, I\n",
    "    \"\"\"\n",
    "    if qubit_to_send_op == 'H':\n",
    "        circuit.append(cirq.H(Q1))\n",
    "    elif qubit_to_send_op == 'X':\n",
    "        circuit.append(cirq.X(Q1))\n",
    "    elif qubit_to_send_op == 'Y':\n",
    "        circuit.append(cirq.Y(Q1))\n",
    "    elif qubit_to_send_op == 'Z':\n",
    "        circuit.append(cirq.Z(Q1))\n",
    "    elif qubit_to_send_op == 'I':\n",
    "        circuit.append(cirq.I(Q1))\n",
    "    else:\n",
    "        raise NotImplementedError('This gate has not been implemented yet')\n",
    "\n",
    "    # Entangle Alice and Bob's qubit Qubit 2 and 3 \n",
    "    \n",
    "    circuit.append(cirq.H(Q2))\n",
    "    circuit.append(cirq.CNOT(Q2, Q3))\n",
    "\n",
    "    # CNOT Alice data Qubit Q1 with control Qubit Q2 \n",
    "    circuit.append(cirq.CNOT(Q1, Q2))\n",
    "\n",
    "    # Transform Alice data Qubit 1 Q1\n",
    "    circuit.append(cirq.H(Q1))\n",
    "    # Measure Alice qubit Q1 and Q2\n",
    "    circuit.append(cirq.measure(Q1, Q2))\n",
    "    # Do a CNOT on Bob's qubit using Q2 as control and Q3 as target\n",
    "    circuit.append(cirq.CNOT(Q2, Q3))\n",
    "\n",
    "    # Do a conditioned Z operation on Bob's qubit Q3 using Alice control qubit 1 after measurement\n",
    "    circuit.append(cirq.CZ(Q1, Q3))\n",
    "    \n",
    "    # Measure the final state state transmitted to Bob's qubit Q3\n",
    "    circuit.append(cirq.measure(Q3, key='Z'))\n",
    "\n",
    "    print(\"Circuit\")\n",
    "    print(circuit)\n",
    "\n",
    "    # Simulator\n",
    "    sim = cirq.Simulator()\n",
    "    output = sim.run(circuit, repetitions=num_copies)\n",
    "    print('Measurement output')\n",
    "    print(output.histogram(key='Z'))\n",
    "    \n",
    "if __name__ == '__main__':\n",
    "    quantum_teleportation(qubit_to_send_op='H')\n",
    "    "
   ]
  },
  {
   "cell_type": "code",
   "execution_count": null,
   "id": "777f6182-8d12-451a-877b-69c0a5e346f9",
   "metadata": {},
   "outputs": [],
   "source": []
  }
 ],
 "metadata": {
  "kernelspec": {
   "display_name": "Python 3 (ipykernel)",
   "language": "python",
   "name": "python3"
  },
  "language_info": {
   "codemirror_mode": {
    "name": "ipython",
    "version": 3
   },
   "file_extension": ".py",
   "mimetype": "text/x-python",
   "name": "python",
   "nbconvert_exporter": "python",
   "pygments_lexer": "ipython3",
   "version": "3.10.12"
  }
 },
 "nbformat": 4,
 "nbformat_minor": 5
}
